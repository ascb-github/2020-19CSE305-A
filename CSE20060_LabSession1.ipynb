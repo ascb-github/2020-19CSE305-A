{
 "cells": [
  {
   "cell_type": "markdown",
   "id": "f1e3d1f5",
   "metadata": {},
   "source": [
    "# The Report is Attached as a markdown at the end of the file "
   ]
  },
  {
   "cell_type": "code",
   "execution_count": 1,
   "id": "dc906bd4",
   "metadata": {},
   "outputs": [],
   "source": [
    "import numpy as np\n",
    "import pandas as pd"
   ]
  },
  {
   "cell_type": "code",
   "execution_count": 3,
   "id": "4b818330",
   "metadata": {},
   "outputs": [],
   "source": [
    "candy_data = pd.read_csv(\"Lab Session1 Data_candy.csv\")"
   ]
  },
  {
   "cell_type": "code",
   "execution_count": 4,
   "id": "7a09645e",
   "metadata": {},
   "outputs": [
    {
     "data": {
      "text/html": [
       "<div>\n",
       "<style scoped>\n",
       "    .dataframe tbody tr th:only-of-type {\n",
       "        vertical-align: middle;\n",
       "    }\n",
       "\n",
       "    .dataframe tbody tr th {\n",
       "        vertical-align: top;\n",
       "    }\n",
       "\n",
       "    .dataframe thead th {\n",
       "        text-align: right;\n",
       "    }\n",
       "</style>\n",
       "<table border=\"1\" class=\"dataframe\">\n",
       "  <thead>\n",
       "    <tr style=\"text-align: right;\">\n",
       "      <th></th>\n",
       "      <th>Candies (#)</th>\n",
       "      <th>Mangoes (Kg)</th>\n",
       "      <th>Milk Packets (#)</th>\n",
       "    </tr>\n",
       "  </thead>\n",
       "  <tbody>\n",
       "    <tr>\n",
       "      <th>0</th>\n",
       "      <td>20</td>\n",
       "      <td>6</td>\n",
       "      <td>2</td>\n",
       "    </tr>\n",
       "    <tr>\n",
       "      <th>1</th>\n",
       "      <td>16</td>\n",
       "      <td>3</td>\n",
       "      <td>6</td>\n",
       "    </tr>\n",
       "    <tr>\n",
       "      <th>2</th>\n",
       "      <td>27</td>\n",
       "      <td>6</td>\n",
       "      <td>2</td>\n",
       "    </tr>\n",
       "    <tr>\n",
       "      <th>3</th>\n",
       "      <td>19</td>\n",
       "      <td>1</td>\n",
       "      <td>2</td>\n",
       "    </tr>\n",
       "    <tr>\n",
       "      <th>4</th>\n",
       "      <td>24</td>\n",
       "      <td>4</td>\n",
       "      <td>2</td>\n",
       "    </tr>\n",
       "    <tr>\n",
       "      <th>5</th>\n",
       "      <td>22</td>\n",
       "      <td>1</td>\n",
       "      <td>5</td>\n",
       "    </tr>\n",
       "    <tr>\n",
       "      <th>6</th>\n",
       "      <td>15</td>\n",
       "      <td>4</td>\n",
       "      <td>2</td>\n",
       "    </tr>\n",
       "    <tr>\n",
       "      <th>7</th>\n",
       "      <td>18</td>\n",
       "      <td>4</td>\n",
       "      <td>2</td>\n",
       "    </tr>\n",
       "    <tr>\n",
       "      <th>8</th>\n",
       "      <td>21</td>\n",
       "      <td>1</td>\n",
       "      <td>4</td>\n",
       "    </tr>\n",
       "    <tr>\n",
       "      <th>9</th>\n",
       "      <td>16</td>\n",
       "      <td>2</td>\n",
       "      <td>4</td>\n",
       "    </tr>\n",
       "  </tbody>\n",
       "</table>\n",
       "</div>"
      ],
      "text/plain": [
       "   Candies (#)  Mangoes (Kg)  Milk Packets (#)\n",
       "0           20             6                 2\n",
       "1           16             3                 6\n",
       "2           27             6                 2\n",
       "3           19             1                 2\n",
       "4           24             4                 2\n",
       "5           22             1                 5\n",
       "6           15             4                 2\n",
       "7           18             4                 2\n",
       "8           21             1                 4\n",
       "9           16             2                 4"
      ]
     },
     "execution_count": 4,
     "metadata": {},
     "output_type": "execute_result"
    }
   ],
   "source": [
    "features = candy_data.iloc[:,1:4]\n",
    "features"
   ]
  },
  {
   "cell_type": "code",
   "execution_count": 5,
   "id": "5799da28",
   "metadata": {},
   "outputs": [
    {
     "data": {
      "text/plain": [
       "0    386\n",
       "1    289\n",
       "2    393\n",
       "3    110\n",
       "4    280\n",
       "5    167\n",
       "6    271\n",
       "7    274\n",
       "8    148\n",
       "9    198\n",
       "Name: Payment (, dtype: int64"
      ]
     },
     "execution_count": 5,
     "metadata": {},
     "output_type": "execute_result"
    }
   ],
   "source": [
    "C = candy_data.iloc[:,-1]\n",
    "C"
   ]
  },
  {
   "cell_type": "code",
   "execution_count": 21,
   "id": "3d303843",
   "metadata": {},
   "outputs": [
    {
     "data": {
      "text/plain": [
       "2"
      ]
     },
     "execution_count": 21,
     "metadata": {},
     "output_type": "execute_result"
    }
   ],
   "source": [
    "# What is the dimensionality of the vector space for this data?\n",
    "features.ndim"
   ]
  },
  {
   "cell_type": "code",
   "execution_count": 22,
   "id": "e1dadc0a",
   "metadata": {},
   "outputs": [
    {
     "data": {
      "text/plain": [
       "1"
      ]
     },
     "execution_count": 22,
     "metadata": {},
     "output_type": "execute_result"
    }
   ],
   "source": [
    "C.ndim"
   ]
  },
  {
   "cell_type": "code",
   "execution_count": 24,
   "id": "9c53053e",
   "metadata": {},
   "outputs": [
    {
     "data": {
      "text/plain": [
       "(10, 3)"
      ]
     },
     "execution_count": 24,
     "metadata": {},
     "output_type": "execute_result"
    }
   ],
   "source": [
    "# How many vectors exist in this vector space?\n",
    "features.shape\n",
    "# row vector -> 10\n",
    "# column vector -> 3"
   ]
  },
  {
   "cell_type": "code",
   "execution_count": 25,
   "id": "af873638",
   "metadata": {},
   "outputs": [
    {
     "data": {
      "text/plain": [
       "(10,)"
      ]
     },
     "execution_count": 25,
     "metadata": {},
     "output_type": "execute_result"
    }
   ],
   "source": [
    "C.shape\n",
    "# row vector -> 10"
   ]
  },
  {
   "cell_type": "code",
   "execution_count": 29,
   "id": "dd348c41",
   "metadata": {},
   "outputs": [
    {
     "data": {
      "text/plain": [
       "3"
      ]
     },
     "execution_count": 29,
     "metadata": {},
     "output_type": "execute_result"
    }
   ],
   "source": [
    "# What is the rank of Matrix A?\n",
    "np.linalg.matrix_rank(features)"
   ]
  },
  {
   "cell_type": "code",
   "execution_count": 41,
   "id": "3f098e39",
   "metadata": {},
   "outputs": [
    {
     "data": {
      "text/plain": [
       "array([[-0.01008596, -0.03124505,  0.01013951,  0.0290728 ,  0.0182907 ,\n",
       "         0.01161794, -0.00771348,  0.00095458,  0.01743623, -0.00542016],\n",
       "       [ 0.09059668,  0.07263726,  0.03172933, -0.09071908, -0.01893196,\n",
       "        -0.06926996,  0.05675464,  0.03152577, -0.07641966,  0.00357352],\n",
       "       [ 0.00299878,  0.15874243, -0.05795468, -0.06609024, -0.06295043,\n",
       "         0.03348017,  0.01541831, -0.01070461,  0.00029003,  0.05938755]])"
      ]
     },
     "execution_count": 41,
     "metadata": {},
     "output_type": "execute_result"
    }
   ],
   "source": [
    "# Using Pseudo-Inverse find the cost of each product available for sale.\n",
    "A_inverse = np.linalg.pinv(features)\n",
    "A_inverse"
   ]
  },
  {
   "cell_type": "code",
   "execution_count": 33,
   "id": "b9f71cb8",
   "metadata": {},
   "outputs": [
    {
     "data": {
      "text/plain": [
       "array([ 1., 55., 18.])"
      ]
     },
     "execution_count": 33,
     "metadata": {},
     "output_type": "execute_result"
    }
   ],
   "source": [
    "# X = A_inverse . C\n",
    "X = np.dot(A_inverse, C)\n",
    "X\n",
    "# candy -> 1 rs\n",
    "# Mangoes -> 55 rs\n",
    "# Milk Packet -> 18 rs"
   ]
  },
  {
   "cell_type": "code",
   "execution_count": 49,
   "id": "4912d792",
   "metadata": {},
   "outputs": [
    {
     "data": {
      "text/html": [
       "<div>\n",
       "<style scoped>\n",
       "    .dataframe tbody tr th:only-of-type {\n",
       "        vertical-align: middle;\n",
       "    }\n",
       "\n",
       "    .dataframe tbody tr th {\n",
       "        vertical-align: top;\n",
       "    }\n",
       "\n",
       "    .dataframe thead th {\n",
       "        text-align: right;\n",
       "    }\n",
       "</style>\n",
       "<table border=\"1\" class=\"dataframe\">\n",
       "  <thead>\n",
       "    <tr style=\"text-align: right;\">\n",
       "      <th></th>\n",
       "      <th>0</th>\n",
       "      <th>1</th>\n",
       "      <th>2</th>\n",
       "    </tr>\n",
       "  </thead>\n",
       "  <tbody>\n",
       "    <tr>\n",
       "      <th>0</th>\n",
       "      <td>-0.010086</td>\n",
       "      <td>-0.031245</td>\n",
       "      <td>0.010140</td>\n",
       "    </tr>\n",
       "    <tr>\n",
       "      <th>1</th>\n",
       "      <td>0.029073</td>\n",
       "      <td>0.018291</td>\n",
       "      <td>0.011618</td>\n",
       "    </tr>\n",
       "    <tr>\n",
       "      <th>2</th>\n",
       "      <td>-0.007713</td>\n",
       "      <td>0.000955</td>\n",
       "      <td>0.017436</td>\n",
       "    </tr>\n",
       "    <tr>\n",
       "      <th>3</th>\n",
       "      <td>-0.005420</td>\n",
       "      <td>0.090597</td>\n",
       "      <td>0.072637</td>\n",
       "    </tr>\n",
       "    <tr>\n",
       "      <th>4</th>\n",
       "      <td>0.031729</td>\n",
       "      <td>-0.090719</td>\n",
       "      <td>-0.018932</td>\n",
       "    </tr>\n",
       "    <tr>\n",
       "      <th>5</th>\n",
       "      <td>-0.069270</td>\n",
       "      <td>0.056755</td>\n",
       "      <td>0.031526</td>\n",
       "    </tr>\n",
       "    <tr>\n",
       "      <th>6</th>\n",
       "      <td>-0.076420</td>\n",
       "      <td>0.003574</td>\n",
       "      <td>0.002999</td>\n",
       "    </tr>\n",
       "    <tr>\n",
       "      <th>7</th>\n",
       "      <td>0.158742</td>\n",
       "      <td>-0.057955</td>\n",
       "      <td>-0.066090</td>\n",
       "    </tr>\n",
       "    <tr>\n",
       "      <th>8</th>\n",
       "      <td>-0.062950</td>\n",
       "      <td>0.033480</td>\n",
       "      <td>0.015418</td>\n",
       "    </tr>\n",
       "    <tr>\n",
       "      <th>9</th>\n",
       "      <td>-0.010705</td>\n",
       "      <td>0.000290</td>\n",
       "      <td>0.059388</td>\n",
       "    </tr>\n",
       "  </tbody>\n",
       "</table>\n",
       "</div>"
      ],
      "text/plain": [
       "          0         1         2\n",
       "0 -0.010086 -0.031245  0.010140\n",
       "1  0.029073  0.018291  0.011618\n",
       "2 -0.007713  0.000955  0.017436\n",
       "3 -0.005420  0.090597  0.072637\n",
       "4  0.031729 -0.090719 -0.018932\n",
       "5 -0.069270  0.056755  0.031526\n",
       "6 -0.076420  0.003574  0.002999\n",
       "7  0.158742 -0.057955 -0.066090\n",
       "8 -0.062950  0.033480  0.015418\n",
       "9 -0.010705  0.000290  0.059388"
      ]
     },
     "execution_count": 49,
     "metadata": {},
     "output_type": "execute_result"
    }
   ],
   "source": [
    "# A2. Use the Pseudo-inverse to calculate the model vector X for predicting the cost of the products available with the vendor.\n",
    "\n",
    "A_inverse_df = pd.DataFrame(A_inverse.reshape(10,-1))\n",
    "A_inverse_df"
   ]
  },
  {
   "cell_type": "code",
   "execution_count": 75,
   "id": "864b4903",
   "metadata": {},
   "outputs": [
    {
     "data": {
      "text/plain": [
       "array([ 1., 55., 18.])"
      ]
     },
     "execution_count": 75,
     "metadata": {},
     "output_type": "execute_result"
    }
   ],
   "source": [
    "X"
   ]
  },
  {
   "cell_type": "code",
   "execution_count": 70,
   "id": "69821212",
   "metadata": {},
   "outputs": [],
   "source": [
    "# Just running a regression to show that the value we found is same/almost the same as Linear Regression prediction\n",
    "from sklearn.linear_model import LinearRegression\n",
    "regressor = LinearRegression()\n",
    "\n",
    "from sklearn.model_selection import train_test_split\n",
    "X_train, X_test, y_train, y_test = train_test_split(features, C, test_size=0.3, random_state=42)"
   ]
  },
  {
   "cell_type": "code",
   "execution_count": 71,
   "id": "7bb98470",
   "metadata": {},
   "outputs": [
    {
     "data": {
      "text/html": [
       "<style>#sk-container-id-2 {color: black;background-color: white;}#sk-container-id-2 pre{padding: 0;}#sk-container-id-2 div.sk-toggleable {background-color: white;}#sk-container-id-2 label.sk-toggleable__label {cursor: pointer;display: block;width: 100%;margin-bottom: 0;padding: 0.3em;box-sizing: border-box;text-align: center;}#sk-container-id-2 label.sk-toggleable__label-arrow:before {content: \"▸\";float: left;margin-right: 0.25em;color: #696969;}#sk-container-id-2 label.sk-toggleable__label-arrow:hover:before {color: black;}#sk-container-id-2 div.sk-estimator:hover label.sk-toggleable__label-arrow:before {color: black;}#sk-container-id-2 div.sk-toggleable__content {max-height: 0;max-width: 0;overflow: hidden;text-align: left;background-color: #f0f8ff;}#sk-container-id-2 div.sk-toggleable__content pre {margin: 0.2em;color: black;border-radius: 0.25em;background-color: #f0f8ff;}#sk-container-id-2 input.sk-toggleable__control:checked~div.sk-toggleable__content {max-height: 200px;max-width: 100%;overflow: auto;}#sk-container-id-2 input.sk-toggleable__control:checked~label.sk-toggleable__label-arrow:before {content: \"▾\";}#sk-container-id-2 div.sk-estimator input.sk-toggleable__control:checked~label.sk-toggleable__label {background-color: #d4ebff;}#sk-container-id-2 div.sk-label input.sk-toggleable__control:checked~label.sk-toggleable__label {background-color: #d4ebff;}#sk-container-id-2 input.sk-hidden--visually {border: 0;clip: rect(1px 1px 1px 1px);clip: rect(1px, 1px, 1px, 1px);height: 1px;margin: -1px;overflow: hidden;padding: 0;position: absolute;width: 1px;}#sk-container-id-2 div.sk-estimator {font-family: monospace;background-color: #f0f8ff;border: 1px dotted black;border-radius: 0.25em;box-sizing: border-box;margin-bottom: 0.5em;}#sk-container-id-2 div.sk-estimator:hover {background-color: #d4ebff;}#sk-container-id-2 div.sk-parallel-item::after {content: \"\";width: 100%;border-bottom: 1px solid gray;flex-grow: 1;}#sk-container-id-2 div.sk-label:hover label.sk-toggleable__label {background-color: #d4ebff;}#sk-container-id-2 div.sk-serial::before {content: \"\";position: absolute;border-left: 1px solid gray;box-sizing: border-box;top: 0;bottom: 0;left: 50%;z-index: 0;}#sk-container-id-2 div.sk-serial {display: flex;flex-direction: column;align-items: center;background-color: white;padding-right: 0.2em;padding-left: 0.2em;position: relative;}#sk-container-id-2 div.sk-item {position: relative;z-index: 1;}#sk-container-id-2 div.sk-parallel {display: flex;align-items: stretch;justify-content: center;background-color: white;position: relative;}#sk-container-id-2 div.sk-item::before, #sk-container-id-2 div.sk-parallel-item::before {content: \"\";position: absolute;border-left: 1px solid gray;box-sizing: border-box;top: 0;bottom: 0;left: 50%;z-index: -1;}#sk-container-id-2 div.sk-parallel-item {display: flex;flex-direction: column;z-index: 1;position: relative;background-color: white;}#sk-container-id-2 div.sk-parallel-item:first-child::after {align-self: flex-end;width: 50%;}#sk-container-id-2 div.sk-parallel-item:last-child::after {align-self: flex-start;width: 50%;}#sk-container-id-2 div.sk-parallel-item:only-child::after {width: 0;}#sk-container-id-2 div.sk-dashed-wrapped {border: 1px dashed gray;margin: 0 0.4em 0.5em 0.4em;box-sizing: border-box;padding-bottom: 0.4em;background-color: white;}#sk-container-id-2 div.sk-label label {font-family: monospace;font-weight: bold;display: inline-block;line-height: 1.2em;}#sk-container-id-2 div.sk-label-container {text-align: center;}#sk-container-id-2 div.sk-container {/* jupyter's `normalize.less` sets `[hidden] { display: none; }` but bootstrap.min.css set `[hidden] { display: none !important; }` so we also need the `!important` here to be able to override the default hidden behavior on the sphinx rendered scikit-learn.org. See: https://github.com/scikit-learn/scikit-learn/issues/21755 */display: inline-block !important;position: relative;}#sk-container-id-2 div.sk-text-repr-fallback {display: none;}</style><div id=\"sk-container-id-2\" class=\"sk-top-container\"><div class=\"sk-text-repr-fallback\"><pre>LinearRegression()</pre><b>In a Jupyter environment, please rerun this cell to show the HTML representation or trust the notebook. <br />On GitHub, the HTML representation is unable to render, please try loading this page with nbviewer.org.</b></div><div class=\"sk-container\" hidden><div class=\"sk-item\"><div class=\"sk-estimator sk-toggleable\"><input class=\"sk-toggleable__control sk-hidden--visually\" id=\"sk-estimator-id-2\" type=\"checkbox\" checked><label for=\"sk-estimator-id-2\" class=\"sk-toggleable__label sk-toggleable__label-arrow\">LinearRegression</label><div class=\"sk-toggleable__content\"><pre>LinearRegression()</pre></div></div></div></div></div>"
      ],
      "text/plain": [
       "LinearRegression()"
      ]
     },
     "execution_count": 71,
     "metadata": {},
     "output_type": "execute_result"
    }
   ],
   "source": [
    "regressor.fit(X_train,y_train)"
   ]
  },
  {
   "cell_type": "code",
   "execution_count": 72,
   "id": "d2efbc87",
   "metadata": {},
   "outputs": [
    {
     "data": {
      "text/plain": [
       "array([148., 289., 167.])"
      ]
     },
     "execution_count": 72,
     "metadata": {},
     "output_type": "execute_result"
    }
   ],
   "source": [
    "y_pred = regressor.predict(X_test)\n",
    "y_pred"
   ]
  },
  {
   "cell_type": "code",
   "execution_count": 73,
   "id": "06e2aa06",
   "metadata": {},
   "outputs": [
    {
     "data": {
      "text/plain": [
       "8    148\n",
       "1    289\n",
       "5    167\n",
       "Name: Payment (, dtype: int64"
      ]
     },
     "execution_count": 73,
     "metadata": {},
     "output_type": "execute_result"
    }
   ],
   "source": [
    "y_test"
   ]
  },
  {
   "cell_type": "code",
   "execution_count": 74,
   "id": "992227d6",
   "metadata": {},
   "outputs": [
    {
     "data": {
      "text/plain": [
       "1.0"
      ]
     },
     "execution_count": 74,
     "metadata": {},
     "output_type": "execute_result"
    }
   ],
   "source": [
    "#to see the accuracy of our model using r squared intuition\n",
    "from sklearn.metrics import r2_score\n",
    "r2_score(y_test,y_pred)"
   ]
  },
  {
   "cell_type": "code",
   "execution_count": 69,
   "id": "af649e57",
   "metadata": {},
   "outputs": [
    {
     "data": {
      "text/plain": [
       "0    RICH\n",
       "1    RICH\n",
       "2    RICH\n",
       "3    POOR\n",
       "4    RICH\n",
       "5    POOR\n",
       "6    RICH\n",
       "7    RICH\n",
       "8    POOR\n",
       "9    POOR\n",
       "Name: Payment (, dtype: object"
      ]
     },
     "execution_count": 69,
     "metadata": {},
     "output_type": "execute_result"
    }
   ],
   "source": [
    "# A3. Mark all customers (in “Purchase Data” table) with payments \n",
    "# above Rs. 200 as RICH and others as POOR. Develop a classifier model to categorize customers \n",
    "# into RICH or POOR class based on purchase behavior.\n",
    "def rich_poor(value):\n",
    "    if value > 200:\n",
    "        return \"RICH\"\n",
    "    else:\n",
    "        return \"POOR\"\n",
    "rich_or_poor = C.apply(rich_poor)\n",
    "rich_or_poor"
   ]
  },
  {
   "cell_type": "code",
   "execution_count": 78,
   "id": "41438059",
   "metadata": {},
   "outputs": [],
   "source": [
    "from sklearn.linear_model import LogisticRegression\n",
    "log_regressor = LogisticRegression()\n",
    "\n",
    "from sklearn.model_selection import train_test_split\n",
    "X_train, X_test, y_train, y_test = train_test_split(features, rich_or_poor, test_size=0.3, random_state=42)"
   ]
  },
  {
   "cell_type": "code",
   "execution_count": 80,
   "id": "50447aca",
   "metadata": {},
   "outputs": [],
   "source": [
    "log_regressor.fit(X_train,y_train)\n",
    "y_pred = log_regressor.predict(X_test)"
   ]
  },
  {
   "cell_type": "code",
   "execution_count": 81,
   "id": "74754d04",
   "metadata": {},
   "outputs": [
    {
     "data": {
      "text/plain": [
       "array(['POOR', 'POOR', 'POOR'], dtype=object)"
      ]
     },
     "execution_count": 81,
     "metadata": {},
     "output_type": "execute_result"
    }
   ],
   "source": [
    "y_pred"
   ]
  },
  {
   "cell_type": "code",
   "execution_count": 82,
   "id": "c6b73836",
   "metadata": {},
   "outputs": [
    {
     "data": {
      "text/plain": [
       "8    POOR\n",
       "1    RICH\n",
       "5    POOR\n",
       "Name: Payment (, dtype: object"
      ]
     },
     "execution_count": 82,
     "metadata": {},
     "output_type": "execute_result"
    }
   ],
   "source": [
    "y_test"
   ]
  },
  {
   "cell_type": "code",
   "execution_count": 2,
   "id": "64ec7f82",
   "metadata": {},
   "outputs": [],
   "source": [
    "# A4. Please refer to the data present in “IRCTC Stock Price” data sheet of the above excel file. \n",
    "# Do the following after loading the data to your programming platform.\n",
    "import numpy as np\n",
    "import pandas as pd\n"
   ]
  },
  {
   "cell_type": "code",
   "execution_count": 4,
   "id": "adb82028",
   "metadata": {},
   "outputs": [],
   "source": [
    "#reading data from excel\n",
    "data = pd.read_excel(r'Lab Session1 Data.xlsx', sheet_name='IRCTC Stock Price')"
   ]
  },
  {
   "cell_type": "code",
   "execution_count": 5,
   "id": "ca90fbc2",
   "metadata": {},
   "outputs": [
    {
     "data": {
      "text/html": [
       "<div>\n",
       "<style scoped>\n",
       "    .dataframe tbody tr th:only-of-type {\n",
       "        vertical-align: middle;\n",
       "    }\n",
       "\n",
       "    .dataframe tbody tr th {\n",
       "        vertical-align: top;\n",
       "    }\n",
       "\n",
       "    .dataframe thead th {\n",
       "        text-align: right;\n",
       "    }\n",
       "</style>\n",
       "<table border=\"1\" class=\"dataframe\">\n",
       "  <thead>\n",
       "    <tr style=\"text-align: right;\">\n",
       "      <th></th>\n",
       "      <th>Date</th>\n",
       "      <th>Month</th>\n",
       "      <th>Day</th>\n",
       "      <th>Price</th>\n",
       "      <th>Open</th>\n",
       "      <th>High</th>\n",
       "      <th>Low</th>\n",
       "      <th>Volume</th>\n",
       "      <th>Chg%</th>\n",
       "    </tr>\n",
       "  </thead>\n",
       "  <tbody>\n",
       "    <tr>\n",
       "      <th>0</th>\n",
       "      <td>Jun 29, 2021</td>\n",
       "      <td>Jun</td>\n",
       "      <td>Tue</td>\n",
       "      <td>2081.85</td>\n",
       "      <td>2092.00</td>\n",
       "      <td>2126.90</td>\n",
       "      <td>2065.05</td>\n",
       "      <td>1.67M</td>\n",
       "      <td>0.0020</td>\n",
       "    </tr>\n",
       "    <tr>\n",
       "      <th>1</th>\n",
       "      <td>Jun 28, 2021</td>\n",
       "      <td>Jun</td>\n",
       "      <td>Mon</td>\n",
       "      <td>2077.75</td>\n",
       "      <td>2084.00</td>\n",
       "      <td>2112.45</td>\n",
       "      <td>2068.40</td>\n",
       "      <td>707.73K</td>\n",
       "      <td>0.0043</td>\n",
       "    </tr>\n",
       "    <tr>\n",
       "      <th>2</th>\n",
       "      <td>Jun 25, 2021</td>\n",
       "      <td>Jun</td>\n",
       "      <td>Fri</td>\n",
       "      <td>2068.85</td>\n",
       "      <td>2084.35</td>\n",
       "      <td>2088.50</td>\n",
       "      <td>2053.10</td>\n",
       "      <td>475.82K</td>\n",
       "      <td>-0.0020</td>\n",
       "    </tr>\n",
       "    <tr>\n",
       "      <th>3</th>\n",
       "      <td>Jun 24, 2021</td>\n",
       "      <td>Jun</td>\n",
       "      <td>Thu</td>\n",
       "      <td>2072.95</td>\n",
       "      <td>2098.00</td>\n",
       "      <td>2098.00</td>\n",
       "      <td>2066.00</td>\n",
       "      <td>541.51K</td>\n",
       "      <td>-0.0026</td>\n",
       "    </tr>\n",
       "    <tr>\n",
       "      <th>4</th>\n",
       "      <td>Jun 23, 2021</td>\n",
       "      <td>Jun</td>\n",
       "      <td>Wed</td>\n",
       "      <td>2078.25</td>\n",
       "      <td>2102.00</td>\n",
       "      <td>2111.40</td>\n",
       "      <td>2072.00</td>\n",
       "      <td>809.62K</td>\n",
       "      <td>-0.0023</td>\n",
       "    </tr>\n",
       "    <tr>\n",
       "      <th>...</th>\n",
       "      <td>...</td>\n",
       "      <td>...</td>\n",
       "      <td>...</td>\n",
       "      <td>...</td>\n",
       "      <td>...</td>\n",
       "      <td>...</td>\n",
       "      <td>...</td>\n",
       "      <td>...</td>\n",
       "      <td>...</td>\n",
       "    </tr>\n",
       "    <tr>\n",
       "      <th>244</th>\n",
       "      <td>Jul 07, 2020</td>\n",
       "      <td>Jul</td>\n",
       "      <td>Tue</td>\n",
       "      <td>1397.40</td>\n",
       "      <td>1410.00</td>\n",
       "      <td>1411.00</td>\n",
       "      <td>1390.05</td>\n",
       "      <td>480.21K</td>\n",
       "      <td>-0.0024</td>\n",
       "    </tr>\n",
       "    <tr>\n",
       "      <th>245</th>\n",
       "      <td>Jul 06, 2020</td>\n",
       "      <td>Jul</td>\n",
       "      <td>Mon</td>\n",
       "      <td>1400.75</td>\n",
       "      <td>1405.50</td>\n",
       "      <td>1415.50</td>\n",
       "      <td>1394.00</td>\n",
       "      <td>614.93K</td>\n",
       "      <td>-0.0031</td>\n",
       "    </tr>\n",
       "    <tr>\n",
       "      <th>246</th>\n",
       "      <td>Jul 03, 2020</td>\n",
       "      <td>Jul</td>\n",
       "      <td>Fri</td>\n",
       "      <td>1405.10</td>\n",
       "      <td>1415.00</td>\n",
       "      <td>1425.00</td>\n",
       "      <td>1398.00</td>\n",
       "      <td>599.49K</td>\n",
       "      <td>-0.0051</td>\n",
       "    </tr>\n",
       "    <tr>\n",
       "      <th>247</th>\n",
       "      <td>Jul 02, 2020</td>\n",
       "      <td>Jul</td>\n",
       "      <td>Thu</td>\n",
       "      <td>1412.35</td>\n",
       "      <td>1440.00</td>\n",
       "      <td>1467.80</td>\n",
       "      <td>1395.30</td>\n",
       "      <td>2.16M</td>\n",
       "      <td>0.0362</td>\n",
       "    </tr>\n",
       "    <tr>\n",
       "      <th>248</th>\n",
       "      <td>Jul 01, 2020</td>\n",
       "      <td>Jul</td>\n",
       "      <td>Wed</td>\n",
       "      <td>1363.05</td>\n",
       "      <td>1363.65</td>\n",
       "      <td>1377.00</td>\n",
       "      <td>1356.00</td>\n",
       "      <td>383.00K</td>\n",
       "      <td>0.0032</td>\n",
       "    </tr>\n",
       "  </tbody>\n",
       "</table>\n",
       "<p>249 rows × 9 columns</p>\n",
       "</div>"
      ],
      "text/plain": [
       "             Date Month  Day    Price     Open     High      Low   Volume  \\\n",
       "0    Jun 29, 2021   Jun  Tue  2081.85  2092.00  2126.90  2065.05    1.67M   \n",
       "1    Jun 28, 2021   Jun  Mon  2077.75  2084.00  2112.45  2068.40  707.73K   \n",
       "2    Jun 25, 2021   Jun  Fri  2068.85  2084.35  2088.50  2053.10  475.82K   \n",
       "3    Jun 24, 2021   Jun  Thu  2072.95  2098.00  2098.00  2066.00  541.51K   \n",
       "4    Jun 23, 2021   Jun  Wed  2078.25  2102.00  2111.40  2072.00  809.62K   \n",
       "..            ...   ...  ...      ...      ...      ...      ...      ...   \n",
       "244  Jul 07, 2020   Jul  Tue  1397.40  1410.00  1411.00  1390.05  480.21K   \n",
       "245  Jul 06, 2020   Jul  Mon  1400.75  1405.50  1415.50  1394.00  614.93K   \n",
       "246  Jul 03, 2020   Jul  Fri  1405.10  1415.00  1425.00  1398.00  599.49K   \n",
       "247  Jul 02, 2020   Jul  Thu  1412.35  1440.00  1467.80  1395.30    2.16M   \n",
       "248  Jul 01, 2020   Jul  Wed  1363.05  1363.65  1377.00  1356.00  383.00K   \n",
       "\n",
       "       Chg%  \n",
       "0    0.0020  \n",
       "1    0.0043  \n",
       "2   -0.0020  \n",
       "3   -0.0026  \n",
       "4   -0.0023  \n",
       "..      ...  \n",
       "244 -0.0024  \n",
       "245 -0.0031  \n",
       "246 -0.0051  \n",
       "247  0.0362  \n",
       "248  0.0032  \n",
       "\n",
       "[249 rows x 9 columns]"
      ]
     },
     "execution_count": 5,
     "metadata": {},
     "output_type": "execute_result"
    }
   ],
   "source": [
    "IRTSC_STOCK_DF = pd.DataFrame(data)\n",
    "IRTSC_STOCK_DF"
   ]
  },
  {
   "cell_type": "code",
   "execution_count": 6,
   "id": "abeed938",
   "metadata": {},
   "outputs": [],
   "source": [
    "import statistics as st"
   ]
  },
  {
   "cell_type": "code",
   "execution_count": 11,
   "id": "dee56b58",
   "metadata": {},
   "outputs": [
    {
     "name": "stdout",
     "output_type": "stream",
     "text": [
      "1560.6634538152612\n",
      "58732.365352539186\n"
     ]
    }
   ],
   "source": [
    "# mean of the price\n",
    "print(IRTSC_STOCK_DF['Price'].mean(axis=0))\n",
    "# variance of teh price\n",
    "print(st.variance(IRTSC_STOCK_DF['Price']))\n"
   ]
  },
  {
   "cell_type": "code",
   "execution_count": 36,
   "id": "f566012c",
   "metadata": {},
   "outputs": [],
   "source": [
    "data_mean = IRTSC_STOCK_DF['Price'].mean(axis=0)"
   ]
  },
  {
   "cell_type": "code",
   "execution_count": 30,
   "id": "5ada8062",
   "metadata": {},
   "outputs": [
    {
     "name": "stderr",
     "output_type": "stream",
     "text": [
      "C:\\Users\\indir\\AppData\\Local\\Temp\\ipykernel_2972\\1831483218.py:2: FutureWarning: ['Date', 'Month', 'Volume'] did not aggregate successfully. If any error is raised this will raise in a future version of pandas. Drop these columns/ops to avoid this warning.\n",
      "  day_stock = IRTSC_STOCK_DF.groupby(by='Day').agg(['mean'])\n"
     ]
    },
    {
     "data": {
      "text/html": [
       "<div>\n",
       "<style scoped>\n",
       "    .dataframe tbody tr th:only-of-type {\n",
       "        vertical-align: middle;\n",
       "    }\n",
       "\n",
       "    .dataframe tbody tr th {\n",
       "        vertical-align: top;\n",
       "    }\n",
       "\n",
       "    .dataframe thead tr th {\n",
       "        text-align: left;\n",
       "    }\n",
       "\n",
       "    .dataframe thead tr:last-of-type th {\n",
       "        text-align: right;\n",
       "    }\n",
       "</style>\n",
       "<table border=\"1\" class=\"dataframe\">\n",
       "  <thead>\n",
       "    <tr>\n",
       "      <th></th>\n",
       "      <th>Price</th>\n",
       "      <th>Open</th>\n",
       "      <th>High</th>\n",
       "      <th>Low</th>\n",
       "      <th>Chg%</th>\n",
       "    </tr>\n",
       "    <tr>\n",
       "      <th></th>\n",
       "      <th>mean</th>\n",
       "      <th>mean</th>\n",
       "      <th>mean</th>\n",
       "      <th>mean</th>\n",
       "      <th>mean</th>\n",
       "    </tr>\n",
       "    <tr>\n",
       "      <th>Day</th>\n",
       "      <th></th>\n",
       "      <th></th>\n",
       "      <th></th>\n",
       "      <th></th>\n",
       "      <th></th>\n",
       "    </tr>\n",
       "  </thead>\n",
       "  <tbody>\n",
       "    <tr>\n",
       "      <th>Fri</th>\n",
       "      <td>1563.302041</td>\n",
       "      <td>1559.553061</td>\n",
       "      <td>1586.935714</td>\n",
       "      <td>1538.105102</td>\n",
       "      <td>0.004143</td>\n",
       "    </tr>\n",
       "    <tr>\n",
       "      <th>Mon</th>\n",
       "      <td>1571.580612</td>\n",
       "      <td>1568.473469</td>\n",
       "      <td>1597.866327</td>\n",
       "      <td>1543.288776</td>\n",
       "      <td>0.003951</td>\n",
       "    </tr>\n",
       "    <tr>\n",
       "      <th>Thu</th>\n",
       "      <td>1541.856000</td>\n",
       "      <td>1540.175000</td>\n",
       "      <td>1564.926000</td>\n",
       "      <td>1522.423000</td>\n",
       "      <td>0.001048</td>\n",
       "    </tr>\n",
       "    <tr>\n",
       "      <th>Tue</th>\n",
       "      <td>1575.840196</td>\n",
       "      <td>1575.419608</td>\n",
       "      <td>1601.522549</td>\n",
       "      <td>1554.650000</td>\n",
       "      <td>0.003604</td>\n",
       "    </tr>\n",
       "    <tr>\n",
       "      <th>Wed</th>\n",
       "      <td>1550.706000</td>\n",
       "      <td>1561.039000</td>\n",
       "      <td>1579.345000</td>\n",
       "      <td>1535.007000</td>\n",
       "      <td>-0.002874</td>\n",
       "    </tr>\n",
       "  </tbody>\n",
       "</table>\n",
       "</div>"
      ],
      "text/plain": [
       "           Price         Open         High          Low      Chg%\n",
       "            mean         mean         mean         mean      mean\n",
       "Day                                                              \n",
       "Fri  1563.302041  1559.553061  1586.935714  1538.105102  0.004143\n",
       "Mon  1571.580612  1568.473469  1597.866327  1543.288776  0.003951\n",
       "Thu  1541.856000  1540.175000  1564.926000  1522.423000  0.001048\n",
       "Tue  1575.840196  1575.419608  1601.522549  1554.650000  0.003604\n",
       "Wed  1550.706000  1561.039000  1579.345000  1535.007000 -0.002874"
      ]
     },
     "execution_count": 30,
     "metadata": {},
     "output_type": "execute_result"
    }
   ],
   "source": [
    "# Select the price data for all Wednesdays and calculate the sample mean\n",
    "day_stock = IRTSC_STOCK_DF.groupby(by='Day').agg(['mean'])\n",
    "day_stock"
   ]
  },
  {
   "cell_type": "code",
   "execution_count": 31,
   "id": "a6f45e27",
   "metadata": {},
   "outputs": [
    {
     "data": {
      "text/plain": [
       "9.95745381526126"
      ]
     },
     "execution_count": 31,
     "metadata": {},
     "output_type": "execute_result"
    }
   ],
   "source": [
    "1560.6634538152612 - 1550.706000"
   ]
  },
  {
   "cell_type": "code",
   "execution_count": 32,
   "id": "c6fa0493",
   "metadata": {},
   "outputs": [],
   "source": [
    "# Observation: The mean of all the days is 1560.6634538152612 and the mean of wednessday is 1550.706000,\n",
    "# From this, we can see that wednessdays have dip in the price with a mean dip of 9.95745381526126 rs"
   ]
  },
  {
   "cell_type": "code",
   "execution_count": 35,
   "id": "6073fad9",
   "metadata": {},
   "outputs": [
    {
     "name": "stderr",
     "output_type": "stream",
     "text": [
      "C:\\Users\\indir\\AppData\\Local\\Temp\\ipykernel_2972\\1142982740.py:1: FutureWarning: ['Date', 'Day', 'Volume'] did not aggregate successfully. If any error is raised this will raise in a future version of pandas. Drop these columns/ops to avoid this warning.\n",
      "  april_price_mean = IRTSC_STOCK_DF.groupby('Month').agg(['mean']).loc['Apr'].get(key='Price')\n"
     ]
    },
    {
     "data": {
      "text/plain": [
       "mean    1698.952632\n",
       "Name: Apr, dtype: float64"
      ]
     },
     "execution_count": 35,
     "metadata": {},
     "output_type": "execute_result"
    }
   ],
   "source": [
    "#Select the price data for the month of Apr and calculate the sample mean\n",
    "\n",
    "april_price_mean = IRTSC_STOCK_DF.groupby('Month').agg(['mean']).loc['Apr'].get(key='Price')\n",
    "april_price_mean"
   ]
  },
  {
   "cell_type": "code",
   "execution_count": 37,
   "id": "0913beae",
   "metadata": {},
   "outputs": [
    {
     "data": {
      "text/plain": [
       "mean   -138.289178\n",
       "Name: Apr, dtype: float64"
      ]
     },
     "execution_count": 37,
     "metadata": {},
     "output_type": "execute_result"
    }
   ],
   "source": [
    "data_mean - april_price_mean"
   ]
  },
  {
   "cell_type": "code",
   "execution_count": 38,
   "id": "385522c5",
   "metadata": {},
   "outputs": [],
   "source": [
    "# Observations: Here we can observe that April has 138.289 rs more than the population mean, \n",
    "# so we tell that its a good time to sell back our stocks for profit"
   ]
  },
  {
   "cell_type": "code",
   "execution_count": 41,
   "id": "e32f6be4",
   "metadata": {},
   "outputs": [
    {
     "data": {
      "text/plain": [
       "249"
      ]
     },
     "execution_count": 41,
     "metadata": {},
     "output_type": "execute_result"
    }
   ],
   "source": [
    "# From the Chg% (available in column I) find the probability of making a loss over the stock.\n",
    "\n",
    "# calculating total no. of stocks\n",
    "total_no_of_stocks = IRTSC_STOCK_DF['Price'].count()\n",
    "total_no_of_stocks"
   ]
  },
  {
   "cell_type": "code",
   "execution_count": 42,
   "id": "7330f537",
   "metadata": {},
   "outputs": [
    {
     "data": {
      "text/plain": [
       "0      Profit\n",
       "1      Profit\n",
       "2        Loss\n",
       "3        Loss\n",
       "4        Loss\n",
       "        ...  \n",
       "244      Loss\n",
       "245      Loss\n",
       "246      Loss\n",
       "247    Profit\n",
       "248    Profit\n",
       "Name: Profit / Loss, Length: 249, dtype: object"
      ]
     },
     "execution_count": 42,
     "metadata": {},
     "output_type": "execute_result"
    }
   ],
   "source": [
    "# Creating a profit loss column\n",
    "IRTSC_STOCK_DF['Profit / Loss'] = IRTSC_STOCK_DF['Chg%'].apply(lambda f: 'Profit' if f>0 else 'Loss')\n",
    "IRTSC_STOCK_DF['Profit / Loss']"
   ]
  },
  {
   "cell_type": "code",
   "execution_count": 44,
   "id": "17728689",
   "metadata": {},
   "outputs": [
    {
     "name": "stdout",
     "output_type": "stream",
     "text": [
      "124\n",
      "125\n"
     ]
    }
   ],
   "source": [
    "# calculating number of loss and number of profit\n",
    "number_of_profit = IRTSC_STOCK_DF['Profit / Loss'].value_counts()['Profit']\n",
    "print(number_of_profit)\n",
    "number_of_loss = IRTSC_STOCK_DF['Profit / Loss'].value_counts()['Loss']\n",
    "print(number_of_loss)"
   ]
  },
  {
   "cell_type": "code",
   "execution_count": 45,
   "id": "dd25eb54",
   "metadata": {},
   "outputs": [
    {
     "name": "stdout",
     "output_type": "stream",
     "text": [
      "0.5020080321285141\n"
     ]
    }
   ],
   "source": [
    "# Finding the probability of loss\n",
    "probabilty_of_loss = number_of_loss/total_no_of_stocks\n",
    "print(probabilty_of_loss)"
   ]
  },
  {
   "cell_type": "code",
   "execution_count": 50,
   "id": "89a2adf1",
   "metadata": {},
   "outputs": [
    {
     "data": {
      "text/html": [
       "<div>\n",
       "<style scoped>\n",
       "    .dataframe tbody tr th:only-of-type {\n",
       "        vertical-align: middle;\n",
       "    }\n",
       "\n",
       "    .dataframe tbody tr th {\n",
       "        vertical-align: top;\n",
       "    }\n",
       "\n",
       "    .dataframe thead th {\n",
       "        text-align: right;\n",
       "    }\n",
       "</style>\n",
       "<table border=\"1\" class=\"dataframe\">\n",
       "  <thead>\n",
       "    <tr style=\"text-align: right;\">\n",
       "      <th></th>\n",
       "      <th></th>\n",
       "      <th>Profit / Loss</th>\n",
       "    </tr>\n",
       "    <tr>\n",
       "      <th>Day</th>\n",
       "      <th>Profit / Loss</th>\n",
       "      <th></th>\n",
       "    </tr>\n",
       "  </thead>\n",
       "  <tbody>\n",
       "    <tr>\n",
       "      <th rowspan=\"2\" valign=\"top\">Fri</th>\n",
       "      <th>Loss</th>\n",
       "      <td>28</td>\n",
       "    </tr>\n",
       "    <tr>\n",
       "      <th>Profit</th>\n",
       "      <td>21</td>\n",
       "    </tr>\n",
       "    <tr>\n",
       "      <th rowspan=\"2\" valign=\"top\">Mon</th>\n",
       "      <th>Loss</th>\n",
       "      <td>27</td>\n",
       "    </tr>\n",
       "    <tr>\n",
       "      <th>Profit</th>\n",
       "      <td>22</td>\n",
       "    </tr>\n",
       "    <tr>\n",
       "      <th rowspan=\"2\" valign=\"top\">Thu</th>\n",
       "      <th>Loss</th>\n",
       "      <td>24</td>\n",
       "    </tr>\n",
       "    <tr>\n",
       "      <th>Profit</th>\n",
       "      <td>26</td>\n",
       "    </tr>\n",
       "    <tr>\n",
       "      <th rowspan=\"2\" valign=\"top\">Tue</th>\n",
       "      <th>Loss</th>\n",
       "      <td>17</td>\n",
       "    </tr>\n",
       "    <tr>\n",
       "      <th>Profit</th>\n",
       "      <td>34</td>\n",
       "    </tr>\n",
       "    <tr>\n",
       "      <th rowspan=\"2\" valign=\"top\">Wed</th>\n",
       "      <th>Loss</th>\n",
       "      <td>29</td>\n",
       "    </tr>\n",
       "    <tr>\n",
       "      <th>Profit</th>\n",
       "      <td>21</td>\n",
       "    </tr>\n",
       "  </tbody>\n",
       "</table>\n",
       "</div>"
      ],
      "text/plain": [
       "                   Profit / Loss\n",
       "Day Profit / Loss               \n",
       "Fri Loss                      28\n",
       "    Profit                    21\n",
       "Mon Loss                      27\n",
       "    Profit                    22\n",
       "Thu Loss                      24\n",
       "    Profit                    26\n",
       "Tue Loss                      17\n",
       "    Profit                    34\n",
       "Wed Loss                      29\n",
       "    Profit                    21"
      ]
     },
     "execution_count": 50,
     "metadata": {},
     "output_type": "execute_result"
    }
   ],
   "source": [
    "# Calculate the probability of making a profit on Wednesday\n",
    "day_profit_loss = IRTSC_STOCK_DF.groupby(by=['Day','Profit / Loss']).agg({'Profit / Loss':'count'})\n",
    "day_profit_loss"
   ]
  },
  {
   "cell_type": "code",
   "execution_count": 57,
   "id": "c2357a2c",
   "metadata": {},
   "outputs": [
    {
     "data": {
      "text/html": [
       "<div>\n",
       "<style scoped>\n",
       "    .dataframe tbody tr th:only-of-type {\n",
       "        vertical-align: middle;\n",
       "    }\n",
       "\n",
       "    .dataframe tbody tr th {\n",
       "        vertical-align: top;\n",
       "    }\n",
       "\n",
       "    .dataframe thead th {\n",
       "        text-align: right;\n",
       "    }\n",
       "</style>\n",
       "<table border=\"1\" class=\"dataframe\">\n",
       "  <thead>\n",
       "    <tr style=\"text-align: right;\">\n",
       "      <th></th>\n",
       "      <th>Profit / Loss</th>\n",
       "    </tr>\n",
       "    <tr>\n",
       "      <th>Profit / Loss</th>\n",
       "      <th></th>\n",
       "    </tr>\n",
       "  </thead>\n",
       "  <tbody>\n",
       "    <tr>\n",
       "      <th>Loss</th>\n",
       "      <td>29</td>\n",
       "    </tr>\n",
       "    <tr>\n",
       "      <th>Profit</th>\n",
       "      <td>21</td>\n",
       "    </tr>\n",
       "  </tbody>\n",
       "</table>\n",
       "</div>"
      ],
      "text/plain": [
       "               Profit / Loss\n",
       "Profit / Loss               \n",
       "Loss                      29\n",
       "Profit                    21"
      ]
     },
     "execution_count": 57,
     "metadata": {},
     "output_type": "execute_result"
    }
   ],
   "source": [
    "wednessday = day_profit_loss.loc['Wed']\n",
    "wednessday"
   ]
  },
  {
   "cell_type": "code",
   "execution_count": 72,
   "id": "e91e214d",
   "metadata": {},
   "outputs": [
    {
     "data": {
      "text/plain": [
       "21"
      ]
     },
     "execution_count": 72,
     "metadata": {},
     "output_type": "execute_result"
    }
   ],
   "source": [
    "no_of_profit_on_wednessday = wednessday.loc['Profit'][0]\n",
    "total_no_of_wednessday = wednessday['Profit / Loss'].agg(['sum'])\n",
    "no_of_profit_on_wednessday"
   ]
  },
  {
   "cell_type": "code",
   "execution_count": 76,
   "id": "9eaf742f",
   "metadata": {},
   "outputs": [
    {
     "name": "stdout",
     "output_type": "stream",
     "text": [
      "0.08433734939759036\n"
     ]
    }
   ],
   "source": [
    "# Calculate the probability of making a profit on Wednesday\n",
    "probabilty_of_wednessday_profit = no_of_profit_on_wednessday / total_no_of_stocks\n",
    "print(probabilty_of_wednessday_profit)"
   ]
  },
  {
   "cell_type": "code",
   "execution_count": 74,
   "id": "20be5fe5",
   "metadata": {},
   "outputs": [
    {
     "name": "stdout",
     "output_type": "stream",
     "text": [
      "The Conditional Probability is equal to: sum    0.42\n",
      "Name: Profit / Loss, dtype: float64\n"
     ]
    }
   ],
   "source": [
    "# Calculate the conditional probability of making profit, given that today is Wednesday.\n",
    "intersection_profit_wednessday = no_of_profit_on_wednessday\n",
    "print(\"The Conditional Probability is equal to:\",intersection_profit_wednessday/total_no_of_wednessday)"
   ]
  },
  {
   "cell_type": "code",
   "execution_count": 75,
   "id": "c1222210",
   "metadata": {},
   "outputs": [
    {
     "data": {
      "text/plain": [
       "<AxesSubplot:xlabel='Day', ylabel='Chg%'>"
      ]
     },
     "execution_count": 75,
     "metadata": {},
     "output_type": "execute_result"
    },
    {
     "data": {
      "image/png": "[encoded data removed]",
      "text/plain": [
       "<Figure size 432x288 with 1 Axes>"
      ]
     },
     "metadata": {
      "needs_background": "light"
     },
     "output_type": "display_data"
    }
   ],
   "source": [
    "#plotting a scatter plot of Chg% data against the day of the week\n",
    "IRTSC_STOCK_DF.plot.scatter(x = 'Day',y = 'Chg%')"
   ]
  },
  {
   "cell_type": "markdown",
   "id": "6c65016e",
   "metadata": {},
   "source": [
    "# Report"
   ]
  },
  {
   "cell_type": "markdown",
   "id": "859bedb4",
   "metadata": {},
   "source": [
    "### 1) Importance of Rank:\n",
    "Rank shows us the number of independent column vectors which in turn helps us find the useful feature columns. Simply put, if Rank(A) < no_of_columns, then we can observe that there are dependent columns inside which can be ignored if we are building a Model. Since one can e derived from the other"
   ]
  },
  {
   "cell_type": "markdown",
   "id": "bb67a44f",
   "metadata": {},
   "source": [
    "### 2) Difference between on regression (Ex: A2) and classification (Ex: A3)\n",
    "#### Regression:\n",
    "Regression models are used to predict a value over a range, for example here in our dataset we would have to predict the cost of the purchase, so regression models are used.\n",
    "\n",
    "#### Classification:\n",
    "Classification, as the name suggests is used to classify different classes of things, like we take petal shape, dial diameter, petal colour as parameters and classify our input as one of the class of flowers. Here in our assignment, we classified the customer as Rich or Poor based on the purchase data "
   ]
  },
  {
   "cell_type": "markdown",
   "id": "07743ea9",
   "metadata": {},
   "source": [
    "### 3) Observing the stock data provided, record your suggestions to build a system that may be able to predict the price and Change % into future."
   ]
  },
  {
   "cell_type": "markdown",
   "id": "f3f64271",
   "metadata": {},
   "source": [
    "My suggestions for building a model for predicting future price and change % would be to build a Polynomial Regression model for prices, since price more or less depends upon the opening and closing, as well the day of the week it is being sold, so for forming a model that has three or four main parameters would be well predicted using a polynomial regression model. But the only downside, we would have to take care of overfitting."
   ]
  },
  {
   "cell_type": "markdown",
   "id": "0f818d83",
   "metadata": {},
   "source": [
    "My Other suggestion would be to use an Artificial Neural Network(ANN), because there might be many more intricate relationship between different combinations of our input in determining the price, which is almost impossible to be taken care by simple mathematical models"
   ]
  },
  {
   "cell_type": "markdown",
   "id": "cf619a96",
   "metadata": {},
   "source": []
  }
 ],
 "metadata": {
  "kernelspec": {
   "display_name": "Python 3 (ipykernel)",
   "language": "python",
   "name": "python3"
  },
  "language_info": {
   "codemirror_mode": {
    "name": "ipython",
    "version": 3
   },
   "file_extension": ".py",
   "mimetype": "text/x-python",
   "name": "python",
   "nbconvert_exporter": "python",
   "pygments_lexer": "ipython3",
   "version": "3.10.1"
  },
  "vscode": {
   "interpreter": {
    "hash": "98c4dbf1a4caf8faeb1ea1d5a71647d5cf76718e232d44e8b9f22b57c9263547"
   }
  }
 },
 "nbformat": 4,
 "nbformat_minor": 5
}
